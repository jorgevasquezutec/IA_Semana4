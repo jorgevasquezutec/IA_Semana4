{
  "cells": [
    {
      "cell_type": "markdown",
      "metadata": {
        "colab_type": "text",
        "id": "view-in-github"
      },
      "source": [
        "<a href=\"https://colab.research.google.com/github/jorgevasquezutec/IA_Semana4/blob/main/Copia_de_Hard_SVM.ipynb\" target=\"_parent\"><img src=\"https://colab.research.google.com/assets/colab-badge.svg\" alt=\"Open In Colab\"/></a>"
      ]
    },
    {
      "cell_type": "markdown",
      "metadata": {
        "id": "_-o70Lb1qRVv"
      },
      "source": [
        "# Multiplicadores de Lagrange \n",
        "$\\frac{\\partial f(x)}{ \\partial x} = λ \\frac{g( \\partial x)}{ \\partial x}$\n",
        "\n",
        "Hallar los valores de $λ_i$ para cada elemento de entrenamiento $X_i$. \n",
        "\n",
        "El código ***GetLambda***  debe retornar un vector al cual denominaremos lambda, de modo que\n",
        "  $lambda[i]$ será $0$, si el elemento $X[i]$ no tiene intercesión con ninguna de las rectas\n",
        "  $XW^t + b >=1$ o $XW^t + b >=0$\n",
        "\n",
        "- **Nota: Puede buscar en internet la forma de como hallar lambda.**"
      ]
    },
    {
      "cell_type": "code",
      "execution_count": 35,
      "metadata": {},
      "outputs": [],
      "source": [
        "import pandas as pd;\n",
        "import matplotlib.pyplot as plt\n",
        "import numpy as np \n",
        "from cvxopt import matrix, solvers"
      ]
    },
    {
      "cell_type": "code",
      "execution_count": 36,
      "metadata": {
        "id": "LZfgE-fAqRCl"
      },
      "outputs": [],
      "source": [
        "def GetLambda(X):\n",
        "    X = np.mat(X)\n",
        "\n",
        "    n,m = X.shape\n",
        "    P = 2 * matrix(X.T * X)\n",
        "    q = -3 * matrix(np.ones((1,n)) * X).T\n",
        "\n",
        "    G = matrix(-np.eye(m))\n",
        "    h = matrix(np.zeros(m))\n",
        "    A = matrix(np.ones(m)).T\n",
        "    b = matrix(1.)\n",
        "\n",
        "    sol = solvers.qp(P, q, G, h, A, b)\n",
        "    return np.squeeze(sol['x'])\n",
        "    \n",
        "  "
      ]
    },
    {
      "cell_type": "markdown",
      "metadata": {
        "id": "63ee_u9PlKkZ"
      },
      "source": [
        "##1. Hipotesis\n",
        "\n",
        "$h(X_i) = X_iW^t$\n",
        "\n",
        "\n"
      ]
    },
    {
      "cell_type": "code",
      "execution_count": 38,
      "metadata": {
        "id": "QHXXr3TMlCgz"
      },
      "outputs": [],
      "source": [
        "def h(X,W):\n",
        "    return np.dot(X,W.trasponse())\n",
        "# write your code here"
      ]
    },
    {
      "cell_type": "markdown",
      "metadata": {
        "id": "Lbvs2lvNlmNa"
      },
      "source": [
        "## 2 Cálculo de los pesos W\n",
        "$W_j = \\sum_{i=0}^n \\lambda_iy_ix_{ij}$  \n",
        "\n",
        "Donde: λ_i es el i-esimo multiplicador de lagrange, W_j es el W-esimo peso y x_{ij} es el valor de la característica $j$ del objeto de entrenamiento $i-esimo$ y $y_i$ es la salida esperada (1 o - 1) del objeto $i$.\n",
        "\n",
        "Recuerde la sumatoria solo recorre todos los elementos para los cuales el valor del multiplicador de lagrange $λ_i$ es diferente de 0."
      ]
    },
    {
      "cell_type": "code",
      "execution_count": null,
      "metadata": {
        "id": "xJwm8DaClJ-f"
      },
      "outputs": [],
      "source": [
        "def Get_W(X,Y, lambda):\n",
        "    w=[]\n",
        "    for j in range(len(X[0])):\n",
        "        sum1 = sum([ lambda[i]*Y[i]*X[i][j] for i in range(len(X))])\n",
        "        w.append(sum1)\n",
        "    return w\n",
        "# write your code here"
      ]
    },
    {
      "cell_type": "markdown",
      "metadata": {
        "id": "wctPuU-jnU0Q"
      },
      "source": [
        "## Cálculo de b\n",
        "\n",
        "XW^t + b = 0 \n",
        "\n",
        "$b = - ∑_{i=0}^n X_iW^t$\n",
        "\n",
        "Donde $X_i$ es un vector $k$ dimensional y representa el objeto $i-esimo$ de entrenamiento y $k$ el número de características del objeto."
      ]
    },
    {
      "cell_type": "code",
      "execution_count": 39,
      "metadata": {
        "id": "IujB29jtnUl7"
      },
      "outputs": [],
      "source": [
        "  def Get_b(X,W):\n",
        "    result=0\n",
        "    for i in range(len(X)):\n",
        "      result+= X[i]*W.transpose()\n",
        "    return result*-1\n",
        "  # write your code here"
      ]
    },
    {
      "cell_type": "markdown",
      "metadata": {
        "id": "k7L3GAtNoUo7"
      },
      "source": [
        "## Etapa de Testing\n",
        "\n",
        "Para esta estapa solo se debe calcular\n",
        "\n",
        "$f(X_j) = X_jW^t + b$\n",
        "\n",
        "Pero dado que ya hemos calculado el valor de los parámetros $W$ y $b$, entonces remplazando tenemos\n",
        "\n",
        "$f(X_j) = \\sum_{i=0}^n \\lambda_iy_i<X_{i},X_{j}> + b$\n",
        "\n",
        "Donde: $X_i$ i-esimo  es el vector de entrenamiento y $X_j$ es el nuevo vector que pasa por el modelo para su predicciòn predecir la clase (1 o -1).\n",
        "\n",
        "Finalmente para saber a que clase pertenece el nuevo vector $X_j$ vasta con verificar el signo de f(X_j). \n",
        "\n",
        "  - **If $f(X_j) >=0$ then $Y_j$ = 1 else $Y_j = -1$**"
      ]
    },
    {
      "cell_type": "code",
      "execution_count": null,
      "metadata": {
        "id": "froBqp3Mp9C5"
      },
      "outputs": [],
      "source": [
        "  def Test(X,W,b):\n",
        "  # write your code here"
      ]
    },
    {
      "cell_type": "markdown",
      "metadata": {},
      "source": [
        "## Contrir Data:"
      ]
    },
    {
      "cell_type": "code",
      "execution_count": null,
      "metadata": {},
      "outputs": [],
      "source": [
        "    def normalize_2d(matrix):\n",
        "        norm = np.linalg.norm(matrix)\n",
        "        matrix = matrix/norm  # normalized matrix\n",
        "        return matrix"
      ]
    },
    {
      "cell_type": "code",
      "execution_count": null,
      "metadata": {},
      "outputs": [
        {
          "name": "stdout",
          "output_type": "stream",
          "text": [
            "[[ 1]\n",
            " [ 1]\n",
            " [ 1]\n",
            " [ 1]\n",
            " [ 1]\n",
            " [ 1]\n",
            " [ 1]\n",
            " [ 1]\n",
            " [ 1]\n",
            " [ 1]\n",
            " [ 1]\n",
            " [ 1]\n",
            " [ 1]\n",
            " [ 1]\n",
            " [ 1]\n",
            " [ 1]\n",
            " [ 1]\n",
            " [ 1]\n",
            " [ 1]\n",
            " [ 1]\n",
            " [ 1]\n",
            " [ 1]\n",
            " [ 1]\n",
            " [ 1]\n",
            " [ 1]\n",
            " [ 1]\n",
            " [ 1]\n",
            " [ 1]\n",
            " [ 1]\n",
            " [ 1]\n",
            " [ 1]\n",
            " [ 1]\n",
            " [ 1]\n",
            " [ 1]\n",
            " [ 1]\n",
            " [ 1]\n",
            " [ 1]\n",
            " [ 1]\n",
            " [ 1]\n",
            " [ 1]\n",
            " [ 1]\n",
            " [ 1]\n",
            " [ 1]\n",
            " [ 1]\n",
            " [ 1]\n",
            " [ 1]\n",
            " [ 1]\n",
            " [ 1]\n",
            " [ 1]\n",
            " [ 1]\n",
            " [-1]\n",
            " [-1]\n",
            " [-1]\n",
            " [-1]\n",
            " [-1]\n",
            " [-1]\n",
            " [-1]\n",
            " [-1]\n",
            " [-1]\n",
            " [-1]\n",
            " [-1]\n",
            " [-1]\n",
            " [-1]\n",
            " [-1]\n",
            " [-1]\n",
            " [-1]\n",
            " [-1]\n",
            " [-1]\n",
            " [-1]\n",
            " [-1]]\n"
          ]
        }
      ],
      "source": [
        "    #read data\n",
        "    df = pd.read_csv('iris.csv')    \n",
        "    #select only two clases\n",
        "    df = df.loc[df['variety'].isin(['Setosa','Versicolor'])]\n",
        "    #replace first clase 1 and second -1\n",
        "    df['variety'].replace({'Setosa':1,'Versicolor':-1},inplace=True)\n",
        "    #data set 70% and test 30%\n",
        "    percentage=round(len(df)/100*70)\n",
        "    train = df.head(percentage) \n",
        "    test=df.iloc[percentage:len(df),:]\n",
        "    x = train[['sepal.length','sepal.width','petal.length','petal.width']].to_numpy()\n",
        "    y = train[['variety']].to_numpy()\n",
        "\n",
        "    #tranning \n",
        "    aux_x = normalize_2d(x)\n",
        "    max_y = max(y)\n",
        "    min_y = min(y)\n",
        "    aux_y = [ ( e - min_y)/(max_y - min_y) for e in y]\n",
        "    arr = [[1] for i in range(len(aux_x))]\n",
        "    aux_x= np.append(arr,aux_x,axis=1)\n",
        "\n",
        "    #testing\n",
        "    x_test= test[['sepal.length','sepal.width','petal.length','petal.width']].to_numpy()\n",
        "    y_test= test[['variety']].to_numpy()\n",
        "    aux_x_test = normalize_2d(x_test)\n",
        "    max_y_test = max(y_test)\n",
        "    min_y_test = min(y_test)\n",
        "    aux_y_test = [ ( e - min_y_test)/(max_y_test - min_y_test) for e in y_test]\n",
        "    arr_test = [[1] for i in range(len(aux_x_test))]\n",
        "    aux_x_test= np.append(arr_test,aux_x_test,axis=1)\n",
        "\n",
        "\n",
        "\n",
        "\n",
        "    \n"
      ]
    },
    {
      "cell_type": "markdown",
      "metadata": {
        "id": "LslGSJAprlPm"
      },
      "source": [
        "Base de Datos para Las pruebas:\n",
        "[Download](https://www.google.com/url?sa=t&rct=j&q=&esrc=s&source=web&cd=&ved=2ahUKEwihhZv-9JH3AhWUI7kGHZWDBV4QFnoECEMQAQ&url=http%3A%2F%2Fwww.saedsayad.com%2Fdatasets%2FIris.xls&usg=AOvVaw3HOrA0X468Juw2u4WM-YvO)\n",
        "\n",
        "En esta base de datos existen 3 clases, solo utilize dos clases para hacer las pruebas.\n",
        "\n",
        "- Separe el dataset en 70% para entrenar y 30% para hacer las pruebas\n",
        "\n",
        "- Añada un valor 1 para la primera clase  y  -1 para la segunda clase.\n",
        "\n",
        "- En la etapa de test, encuentre el número de elementos correctamente clasificados y el número de elementos incorrectamente clasificados para cada clase.\n",
        "\n",
        "- Cree una matriz de confusión el cual nos mostrará la eficiencia del método."
      ]
    },
    {
      "cell_type": "code",
      "execution_count": null,
      "metadata": {},
      "outputs": [
        {
          "ename": "TypeError",
          "evalue": "'list' object is not callable",
          "output_type": "error",
          "traceback": [
            "\u001b[1;31m---------------------------------------------------------------------------\u001b[0m",
            "\u001b[1;31mTypeError\u001b[0m                                 Traceback (most recent call last)",
            "\u001b[1;32mc:\\Users\\jorge\\Documents\\utec\\ciclo7\\ia\\IA_Semana4\\Copia_de_Hard_SVM.ipynb Cell 17'\u001b[0m in \u001b[0;36m<cell line: 2>\u001b[1;34m()\u001b[0m\n\u001b[0;32m      <a href='vscode-notebook-cell:/c%3A/Users/jorge/Documents/utec/ciclo7/ia/IA_Semana4/Copia_de_Hard_SVM.ipynb#ch0000017?line=0'>1</a>\u001b[0m matrix\u001b[39m=\u001b[39m [[\u001b[39m10\u001b[39m,\u001b[39m20\u001b[39m,\u001b[39m30\u001b[39m,\u001b[39m1\u001b[39m],[\u001b[39m2\u001b[39m,\u001b[39m3\u001b[39m,\u001b[39m4\u001b[39m,\u001b[39m1\u001b[39m]]\n\u001b[1;32m----> <a href='vscode-notebook-cell:/c%3A/Users/jorge/Documents/utec/ciclo7/ia/IA_Semana4/Copia_de_Hard_SVM.ipynb#ch0000017?line=1'>2</a>\u001b[0m result \u001b[39m=\u001b[39m GetLambda(matrix)\n\u001b[0;32m      <a href='vscode-notebook-cell:/c%3A/Users/jorge/Documents/utec/ciclo7/ia/IA_Semana4/Copia_de_Hard_SVM.ipynb#ch0000017?line=2'>3</a>\u001b[0m \u001b[39mprint\u001b[39m(result)\n",
            "\u001b[1;32mc:\\Users\\jorge\\Documents\\utec\\ciclo7\\ia\\IA_Semana4\\Copia_de_Hard_SVM.ipynb Cell 4'\u001b[0m in \u001b[0;36mGetLambda\u001b[1;34m(X)\u001b[0m\n\u001b[0;32m      <a href='vscode-notebook-cell:/c%3A/Users/jorge/Documents/utec/ciclo7/ia/IA_Semana4/Copia_de_Hard_SVM.ipynb#ch0000002?line=1'>2</a>\u001b[0m X \u001b[39m=\u001b[39m np\u001b[39m.\u001b[39mmat(X)\n\u001b[0;32m      <a href='vscode-notebook-cell:/c%3A/Users/jorge/Documents/utec/ciclo7/ia/IA_Semana4/Copia_de_Hard_SVM.ipynb#ch0000002?line=3'>4</a>\u001b[0m n,m \u001b[39m=\u001b[39m X\u001b[39m.\u001b[39mshape\n\u001b[1;32m----> <a href='vscode-notebook-cell:/c%3A/Users/jorge/Documents/utec/ciclo7/ia/IA_Semana4/Copia_de_Hard_SVM.ipynb#ch0000002?line=4'>5</a>\u001b[0m P \u001b[39m=\u001b[39m \u001b[39m2\u001b[39m \u001b[39m*\u001b[39m matrix(X\u001b[39m.\u001b[39;49mT \u001b[39m*\u001b[39;49m X)\n\u001b[0;32m      <a href='vscode-notebook-cell:/c%3A/Users/jorge/Documents/utec/ciclo7/ia/IA_Semana4/Copia_de_Hard_SVM.ipynb#ch0000002?line=5'>6</a>\u001b[0m q \u001b[39m=\u001b[39m \u001b[39m-\u001b[39m\u001b[39m3\u001b[39m \u001b[39m*\u001b[39m matrix(np\u001b[39m.\u001b[39mones((\u001b[39m1\u001b[39m,n)) \u001b[39m*\u001b[39m X)\u001b[39m.\u001b[39mT\n\u001b[0;32m      <a href='vscode-notebook-cell:/c%3A/Users/jorge/Documents/utec/ciclo7/ia/IA_Semana4/Copia_de_Hard_SVM.ipynb#ch0000002?line=7'>8</a>\u001b[0m G \u001b[39m=\u001b[39m matrix(\u001b[39m-\u001b[39mnp\u001b[39m.\u001b[39meye(m))\n",
            "\u001b[1;31mTypeError\u001b[0m: 'list' object is not callable"
          ]
        }
      ],
      "source": [
        "matrix= [[10,20,30,1],[2,3,4,1]]\n",
        "result = GetLambda(matrix)\n",
        "print(result)"
      ]
    }
  ],
  "metadata": {
    "colab": {
      "include_colab_link": true,
      "name": "Copia de Hard_SVM.ipynb",
      "provenance": [],
      "toc_visible": true
    },
    "kernelspec": {
      "display_name": "Python 3",
      "name": "python3"
    },
    "language_info": {
      "codemirror_mode": {
        "name": "ipython",
        "version": 3
      },
      "file_extension": ".py",
      "mimetype": "text/x-python",
      "name": "python",
      "nbconvert_exporter": "python",
      "pygments_lexer": "ipython3",
      "version": "3.9.12"
    }
  },
  "nbformat": 4,
  "nbformat_minor": 0
}
