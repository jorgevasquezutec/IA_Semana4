{
  "cells": [
    {
      "cell_type": "markdown",
      "metadata": {
        "colab_type": "text",
        "id": "view-in-github"
      },
      "source": [
        "<a href=\"https://colab.research.google.com/github/jorgevasquezutec/IA_Semana4/blob/main/Copia_de_Hard_SVM.ipynb\" target=\"_parent\"><img src=\"https://colab.research.google.com/assets/colab-badge.svg\" alt=\"Open In Colab\"/></a>"
      ]
    },
    {
      "cell_type": "markdown",
      "metadata": {
        "id": "_-o70Lb1qRVv"
      },
      "source": [
        "# Multiplicadores de Lagrange \n",
        "$\\frac{\\partial f(x)}{ \\partial x} = λ \\frac{g( \\partial x)}{ \\partial x}$\n",
        "\n",
        "Hallar los valores de $λ_i$ para cada elemento de entrenamiento $X_i$. \n",
        "\n",
        "El código ***GetLambda***  debe retornar un vector al cual denominaremos lambda, de modo que\n",
        "  $lambda[i]$ será $0$, si el elemento $X[i]$ no tiene intercesión con ninguna de las rectas\n",
        "  $XW^t + b >=1$ o $XW^t + b >=0$\n",
        "\n",
        "- **Nota: Puede buscar en internet la forma de como hallar lambda.**"
      ]
    },
    {
      "cell_type": "code",
      "execution_count": null,
      "metadata": {
        "id": "LZfgE-fAqRCl"
      },
      "outputs": [],
      "source": [
        "def GetLambda(X):\n",
        "  print(\"Hola\")\n",
        "  #res = minimize(f, x0, constraints=cons, method=  \"trust-constr\")\n",
        "# the lagrangian multipliers for   all constraints\n",
        "lagr = res.v"
      ]
    },
    {
      "cell_type": "markdown",
      "metadata": {
        "id": "63ee_u9PlKkZ"
      },
      "source": [
        "##1. Hipotesis\n",
        "\n",
        "$h(X_i) = X_iW^t$\n",
        "\n",
        "$s(x) = \\frac{1}{1+ e^{h(x_i)}}$\n",
        "\n",
        "\n"
      ]
    },
    {
      "cell_type": "code",
      "execution_count": null,
      "metadata": {
        "id": "QHXXr3TMlCgz"
      },
      "outputs": [],
      "source": [
        "def h(X,W):\n",
        "# write your code here"
      ]
    },
    {
      "cell_type": "markdown",
      "metadata": {
        "id": "Lbvs2lvNlmNa"
      },
      "source": [
        "## 2 Cálculo de los pesos W\n",
        "$W_j = \\sum_{i=0}^n \\lambda_iy_ix_{ij}$  \n",
        "\n",
        "Donde: λ_i es el i-esimo multiplicador de lagrange, W_j es el W-esimo peso y x_{ij} es el valor de la característica $j$ del objeto de entrenamiento $i-esimo$ y $y_i$ es la salida esperada (1 o - 1) del objeto $i$.\n",
        "\n",
        "Recuerde la sumatoria solo recorre todos los elementos para los cuales el valor del multiplicador de lagrange $λ_i$ es diferente de 0."
      ]
    },
    {
      "cell_type": "code",
      "execution_count": null,
      "metadata": {
        "id": "xJwm8DaClJ-f"
      },
      "outputs": [],
      "source": [
        "def Get_W(X,Y, lambda):\n",
        "# write your code here"
      ]
    },
    {
      "cell_type": "markdown",
      "metadata": {
        "id": "wctPuU-jnU0Q"
      },
      "source": [
        "## Cálculo de b\n",
        "\n",
        "XW^t + b = 0 \n",
        "\n",
        "$b = - ∑_{i=0}^n X_iW^t$\n",
        "\n",
        "Donde $X_i$ es un vector $k$ dimensional y representa el objeto $i-esimo$ de entrenamiento y $k$ el número de características del objeto."
      ]
    },
    {
      "cell_type": "code",
      "execution_count": null,
      "metadata": {
        "id": "IujB29jtnUl7"
      },
      "outputs": [],
      "source": [
        "def Get_b(X,W):\n",
        "  # write your code here"
      ]
    },
    {
      "cell_type": "markdown",
      "metadata": {
        "id": "k7L3GAtNoUo7"
      },
      "source": [
        "## Etapa de Testing\n",
        "\n",
        "Para esta estapa solo se debe calcular\n",
        "\n",
        "$f(X_j) = X_jW^t + b$\n",
        "\n",
        "Pero dado que ya hemos calculado el valor de los parámetros $W$ y $b$, entonces remplazando tenemos\n",
        "\n",
        "$f(X_j) = \\sum_{i=0}^n \\lambda_iy_i<X_{i},X_{j}> + b$\n",
        "\n",
        "Donde: $X_i$ i-esimo  es el vector de entrenamiento y $X_j$ es el nuevo vector que pasa por el modelo para su predicciòn predecir la clase (1 o -1).\n",
        "\n",
        "Finalmente para saber a que clase pertenece el nuevo vector $X_j$ vasta con verificar el signo de f(X_j). \n",
        "\n",
        "  - **If $f(X_j) >=0$ then $Y_j$ = 1 else $Y_j = -1$**"
      ]
    },
    {
      "cell_type": "code",
      "execution_count": null,
      "metadata": {
        "id": "froBqp3Mp9C5"
      },
      "outputs": [],
      "source": [
        "def Test(X,W,b):\n",
        "  # write your code here"
      ]
    },
    {
      "cell_type": "code",
      "execution_count": 2,
      "metadata": {},
      "outputs": [
        {
          "name": "stdout",
          "output_type": "stream",
          "text": [
            "Hola\n"
          ]
        }
      ],
      "source": [
        "print(\"Hola\")"
      ]
    },
    {
      "cell_type": "markdown",
      "metadata": {
        "id": "LslGSJAprlPm"
      },
      "source": [
        "Base de Datos para Las pruebas:\n",
        "[Download](https://www.google.com/url?sa=t&rct=j&q=&esrc=s&source=web&cd=&ved=2ahUKEwihhZv-9JH3AhWUI7kGHZWDBV4QFnoECEMQAQ&url=http%3A%2F%2Fwww.saedsayad.com%2Fdatasets%2FIris.xls&usg=AOvVaw3HOrA0X468Juw2u4WM-YvO)\n",
        "\n",
        "En esta base de datos existen 3 clases, solo utilize dos clases para hacer las pruebas.\n",
        "\n",
        "- Separe el dataset en 70% para entrenar y 30% para hacer las pruebas\n",
        "\n",
        "- Añada un valor 1 para la primera clase  y  -1 para la segunda clase.\n",
        "\n",
        "- En la etapa de test, encuentre el número de elementos correctamente clasificados y el número de elementos incorrectamente clasificados para cada clase.\n",
        "\n",
        "- Cree una matriz de confusión el cual nos mostrará la eficiencia del método."
      ]
    }
  ],
  "metadata": {
    "colab": {
      "include_colab_link": true,
      "name": "Copia de Hard_SVM.ipynb",
      "provenance": [],
      "toc_visible": true
    },
    "kernelspec": {
      "display_name": "Python 3",
      "name": "python3"
    },
    "language_info": {
      "codemirror_mode": {
        "name": "ipython",
        "version": 3
      },
      "file_extension": ".py",
      "mimetype": "text/x-python",
      "name": "python",
      "nbconvert_exporter": "python",
      "pygments_lexer": "ipython3",
      "version": "3.9.12"
    }
  },
  "nbformat": 4,
  "nbformat_minor": 0
}
